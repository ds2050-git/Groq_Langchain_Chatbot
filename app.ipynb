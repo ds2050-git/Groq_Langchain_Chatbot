{
 "cells": [
  {
   "cell_type": "code",
   "execution_count": 2,
   "id": "9ca689e7",
   "metadata": {},
   "outputs": [],
   "source": [
    "import os\n",
    "from dotenv import load_dotenv\n",
    "load_dotenv()\n",
    "\n",
    "groq_api_key=os.getenv(\"GROQ_API_KEY\")"
   ]
  },
  {
   "cell_type": "code",
   "execution_count": 3,
   "id": "5fd09cc1",
   "metadata": {},
   "outputs": [],
   "source": [
    "from langchain_groq import ChatGroq\n",
    "model=ChatGroq(model=\"llama3-70b-8192\",groq_api_key=groq_api_key)"
   ]
  },
  {
   "cell_type": "code",
   "execution_count": 4,
   "id": "f1952930",
   "metadata": {},
   "outputs": [
    {
     "name": "stdout",
     "output_type": "stream",
     "text": [
      "Hi Dev! Nice to meet you! That's awesome that you're interested in making GenAI applications. Generative AI has the potential to revolutionize many industries and create new possibilities. What kind of GenAI applications are you most interested in building? Are you exploring areas like art, music, writing, or something else?\n"
     ]
    }
   ],
   "source": [
    "from langchain.chat_models import ChatOpenAI\n",
    "from langchain_core.messages import HumanMessage,AIMessage\n",
    "\n",
    "response=model.invoke(\n",
    "    [\n",
    "        HumanMessage(content=\"Hi, my name is Dev and I like making GenAI applications!\")\n",
    "    ]\n",
    ")\n",
    "print(response.content)"
   ]
  },
  {
   "cell_type": "code",
   "execution_count": 5,
   "id": "164199ee",
   "metadata": {},
   "outputs": [
    {
     "name": "stdout",
     "output_type": "stream",
     "text": [
      "Your name is Dev!\n"
     ]
    }
   ],
   "source": [
    "from langchain.chat_models import ChatOpenAI\n",
    "from langchain_core.messages import HumanMessage,AIMessage\n",
    "response=model.invoke(\n",
    "    [\n",
    "        HumanMessage(content=\"Hi, my name is Dev and I like making GenAI applications!\"),\n",
    "        AIMessage(content=\"Hi Dev! Nice to meet you! That's really cool that you're into making GenAI applications! Generative AI has so much potential to create innovative and creative solutions. What kind of GenAI applications have you been working on? Are you more interested in art, music, language, or something else?\"),\n",
    "        HumanMessage(content=\"What was my name?\"),\n",
    "    ]\n",
    ")\n",
    "print(response.content)"
   ]
  },
  {
   "cell_type": "code",
   "execution_count": 6,
   "id": "31aef10d",
   "metadata": {},
   "outputs": [],
   "source": [
    "from langchain_community.chat_message_histories import ChatMessageHistory\n",
    "from langchain_core.chat_history import BaseChatMessageHistory\n",
    "from langchain_core.runnables.history import RunnableWithMessageHistory\n",
    "\n",
    "store={}\n",
    "\n",
    "def get_chat_history(chat_id: str)->BaseChatMessageHistory:\n",
    "    if chat_id not in store:\n",
    "        store[chat_id]=ChatMessageHistory()\n",
    "    return store[chat_id]\n",
    "\n",
    "with_message_history=RunnableWithMessageHistory(model,get_chat_history)\n"
   ]
  },
  {
   "cell_type": "code",
   "execution_count": 7,
   "id": "acf1b8dd",
   "metadata": {},
   "outputs": [],
   "source": [
    "config={\"configurable\":{\"session_id\":\"chat1\"}}"
   ]
  },
  {
   "cell_type": "code",
   "execution_count": 8,
   "id": "85c3ccc0",
   "metadata": {},
   "outputs": [
    {
     "name": "stdout",
     "output_type": "stream",
     "text": [
      "Hi Dev! Nice to meet you! That's really cool that you're into making GenAI applications. Generative AI has the potential to revolutionize many industries and create new possibilities for art, music, writing, and more.\n",
      "\n",
      "What kind of GenAI applications are you most interested in building? Are you working on any projects currently, or do you have any ideas for future projects that you'd like to share? I'm here to listen and help if I can!\n"
     ]
    }
   ],
   "source": [
    "response=with_message_history.invoke([HumanMessage(content=\"Hi, my name is Dev and I like making GenAI applications!\")],config=config)\n",
    "print(response.content)"
   ]
  },
  {
   "cell_type": "code",
   "execution_count": 9,
   "id": "53da4440",
   "metadata": {},
   "outputs": [],
   "source": [
    "from langchain_core.prompts import ChatPromptTemplate,MessagesPlaceholder\n",
    "\n",
    "prompt=ChatPromptTemplate.from_messages([\n",
    "    (\"system\",\"you are a helpful assistant\"),\n",
    "    MessagesPlaceholder(variable_name=\"messages\")\n",
    "])\n",
    "\n",
    "\n",
    "chain=prompt|model"
   ]
  },
  {
   "cell_type": "code",
   "execution_count": 10,
   "id": "833fa01a",
   "metadata": {},
   "outputs": [
    {
     "data": {
      "text/plain": [
       "AIMessage(content=\"Hi Dev! Nice to meet you! It's great to hear that you're interested in creating GenAI applications. Generative AI is a fascinating field with immense potential. What kind of GenAI applications have you been working on or would you like to explore? Are you interested in areas like text generation, image synthesis, music generation, or something else? I'm here to help and provide guidance if you need it!\", additional_kwargs={}, response_metadata={'token_usage': {'completion_tokens': 85, 'prompt_tokens': 34, 'total_tokens': 119, 'completion_time': 0.309032603, 'prompt_time': 0.000759408, 'queue_time': 0.282859672, 'total_time': 0.309792011}, 'model_name': 'llama3-70b-8192', 'system_fingerprint': 'fp_bf16903a67', 'service_tier': 'on_demand', 'finish_reason': 'stop', 'logprobs': None}, id='run--66e52745-de56-4a17-8405-091b7898b3b6-0', usage_metadata={'input_tokens': 34, 'output_tokens': 85, 'total_tokens': 119})"
      ]
     },
     "execution_count": 10,
     "metadata": {},
     "output_type": "execute_result"
    }
   ],
   "source": [
    "chain.invoke({\"messages\":[HumanMessage(content=\"Hi, my name is Dev and I like making GenAI applications!\")]})"
   ]
  },
  {
   "cell_type": "code",
   "execution_count": 11,
   "id": "dd3e255a",
   "metadata": {},
   "outputs": [],
   "source": [
    "with_message_history=RunnableWithMessageHistory(chain,get_chat_history,input_messages_key=\"messages\")"
   ]
  },
  {
   "cell_type": "code",
   "execution_count": 12,
   "id": "fecebc82",
   "metadata": {},
   "outputs": [
    {
     "name": "stdout",
     "output_type": "stream",
     "text": [
      "Hi again Dev! It's great to see you again! I remember you mentioned you're into making GenAI applications. How's your project going? Have you made any progress or encountered any challenges that you'd like to discuss?\n",
      "\n",
      "If you're looking for ideas or resources, I'd be happy to help. There are so many exciting areas to explore in GenAI, from text generation to image synthesis, and even multimodal applications. What's been inspiring you lately?\n"
     ]
    }
   ],
   "source": [
    "response=with_message_history.invoke(\n",
    "    {\"messages\":[HumanMessage(content=\"Hi, my name is Dev and I like making GenAI applications!\")]},\n",
    "    config=config\n",
    ")\n",
    "print(response.content)\n"
   ]
  }
 ],
 "metadata": {
  "kernelspec": {
   "display_name": "venv (3.11.0)",
   "language": "python",
   "name": "python3"
  },
  "language_info": {
   "codemirror_mode": {
    "name": "ipython",
    "version": 3
   },
   "file_extension": ".py",
   "mimetype": "text/x-python",
   "name": "python",
   "nbconvert_exporter": "python",
   "pygments_lexer": "ipython3",
   "version": "3.11.0"
  }
 },
 "nbformat": 4,
 "nbformat_minor": 5
}
